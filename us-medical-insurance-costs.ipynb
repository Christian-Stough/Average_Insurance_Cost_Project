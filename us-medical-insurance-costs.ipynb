{
 "cells": [
  {
   "cell_type": "markdown",
   "metadata": {},
   "source": [
    "Create output that shows the:\n",
    "\n",
    "Average Age of User [ X ]\n",
    "\n",
    "Average Price of Insurance [ X ]\n",
    "\n",
    "Estimated Price for a user with 0/1/2 Children [ X ]\n",
    "\n",
    "Estimated Price for a user with underweight,average,overweight BMI [ X ]\n",
    "\n",
    "Estimated Price for user who Smokes/Does not smoke [ X ]\n",
    "\n",
    "Estimated Price for a user in each region\n",
    "\n",
    "Option to enter in your stats and get an estimated Insurance price\n"
   ]
  },
  {
   "cell_type": "markdown",
   "metadata": {},
   "source": [
    "# U.S. Medical Insurance Costs"
   ]
  },
  {
   "cell_type": "code",
   "execution_count": 14,
   "metadata": {},
   "outputs": [],
   "source": [
    "import csv\n",
    "import math"
   ]
  },
  {
   "cell_type": "markdown",
   "metadata": {},
   "source": [
    "# Creating andAssigning Variables to information from CSV"
   ]
  },
  {
   "cell_type": "code",
   "execution_count": 104,
   "metadata": {},
   "outputs": [],
   "source": [
    "class Medical_Insurance():\n",
    "    age = []\n",
    "    sex = []\n",
    "    bmi = []\n",
    "    children = []\n",
    "    smoker = []\n",
    "    region = []\n",
    "    cost = []"
   ]
  },
  {
   "cell_type": "code",
   "execution_count": 160,
   "metadata": {},
   "outputs": [],
   "source": [
    "    with open('insurance.csv') as insurance:\n",
    "        insurance_reader = csv.DictReader(insurance)\n",
    "        for row in insurance_reader:\n",
    "            age.append(row['age'])\n",
    "            sex.append(row['sex'])\n",
    "            bmi.append(row['bmi'])\n",
    "            children.append(row['children'])\n",
    "            smoker.append(row['smoker'])\n",
    "            region.append(row['region'])\n",
    "            cost.append(float(row['charges']))\n"
   ]
  },
  {
   "cell_type": "markdown",
   "metadata": {},
   "source": [
    "#  Finding Average Cost and Age of Spreedsheet"
   ]
  },
  {
   "cell_type": "code",
   "execution_count": 115,
   "metadata": {},
   "outputs": [
    {
     "name": "stdout",
     "output_type": "stream",
     "text": [
      "The Average Age of Users is: 39\n"
     ]
    }
   ],
   "source": [
    "    def average_age(ages):\n",
    "        total = 0\n",
    "        for age in ages:\n",
    "            total += int(age)\n",
    "        return math.trunc(total/len(ages))\n",
    "\n",
    "    print(\"The Average Age of Users is: \" + str(average_age(age)))"
   ]
  },
  {
   "cell_type": "code",
   "execution_count": 149,
   "metadata": {},
   "outputs": [
    {
     "name": "stdout",
     "output_type": "stream",
     "text": [
      "The Average Cost of Insurance for Users is: $13270.42\n"
     ]
    }
   ],
   "source": [
    "    def average_cost(costs):\n",
    "        total = 0\n",
    "        for price in costs:\n",
    "            total += float(price)\n",
    "        return round((total/len(costs)),2)\n",
    "    print(\"The Average Cost of Insurance for Users is: ${cost}\".format(cost = str(average_cost(cost))))"
   ]
  },
  {
   "cell_type": "markdown",
   "metadata": {},
   "source": [
    "# Finding The Average Cost of Insurance Depending on the Amount of Children you have"
   ]
  },
  {
   "cell_type": "code",
   "execution_count": 147,
   "metadata": {},
   "outputs": [
    {
     "name": "stdout",
     "output_type": "stream",
     "text": [
      "The average price of insurance for 0 kids is: $12365.98\n",
      "The average price of insurance for 1 kid is: $12731.17\n",
      "The average price of insurance for 2 kids is: $15073.56\n",
      "The average price of insurance for 3 or more kids is: $14576.0\n"
     ]
    }
   ],
   "source": [
    "    def average_cost_per_child(children_lst,insurance_lst):\n",
    "        zero_child_cost = []\n",
    "        zero_total = 0\n",
    "        one_child_cost = []\n",
    "        one_total = 0\n",
    "        two_child_cost = []\n",
    "        two_total = 0\n",
    "        three_or_more_child_cost = []\n",
    "        three_total = 0\n",
    "\n",
    "        for index in range(len(children_lst)-1):\n",
    "            real_index = int(children_lst[index+1])\n",
    "            if real_index == 0:\n",
    "                zero_child_cost.append(insurance_lst[index])\n",
    "                zero_total += float(insurance_lst[index])\n",
    "            elif real_index == 1:\n",
    "                one_child_cost.append(insurance_lst[index])\n",
    "                one_total += float(insurance_lst[index])\n",
    "            elif real_index == 2:\n",
    "                two_child_cost.append(insurance_lst[index])\n",
    "                two_total += float(insurance_lst[index])\n",
    "            else:\n",
    "                three_or_more_child_cost.append(insurance_lst[index])\n",
    "                three_total += float(insurance_lst[index])\n",
    "\n",
    "        zero_average = round((zero_total/len(zero_child_cost)),2)\n",
    "        one_average = round((one_total/len(one_child_cost)),2)\n",
    "        two_average = round((two_total/len(two_child_cost)),2)\n",
    "        three_average = round((three_total/len(three_or_more_child_cost)),2)\n",
    "        return(zero_average,one_average,two_average,three_average)\n",
    "\n",
    "    zero,one,two,three_or_more = average_cost_per_child(children,cost)\n",
    "    print(\"The average price of insurance for 0 kids is: ${zero}\".format(zero = zero))\n",
    "    print(\"The average price of insurance for 1 kid is: ${one}\".format(one = one))\n",
    "    print(\"The average price of insurance for 2 kids is: ${two}\".format(two = two))\n",
    "    print(\"The average price of insurance for 3 or more kids is: ${three}\".format(three = three_or_more))"
   ]
  },
  {
   "cell_type": "markdown",
   "metadata": {},
   "source": [
    "# Finding Average Insurance Cost based off of BMI Ranges"
   ]
  },
  {
   "cell_type": "code",
   "execution_count": 145,
   "metadata": {},
   "outputs": [
    {
     "name": "stdout",
     "output_type": "stream",
     "text": [
      "18347.27\n"
     ]
    }
   ],
   "source": [
    "    def average_cost_by_bmi():\n",
    "        underweight_total = 0\n",
    "        underweight_len = 0\n",
    "        healthy_total = 0\n",
    "        healthy_len = 0\n",
    "        overweight_total = 0\n",
    "        overweight_len = 0\n",
    "        obese_total = 0\n",
    "        obese_len = 0\n",
    "        \n",
    "        for index in range(len(bmi)-1):\n",
    "            if float(bmi[index]) < 18.5:\n",
    "                underweight_total += float(cost[index])\n",
    "                underweight_len += 1\n",
    "            elif float(bmi[index]) < 25.0:\n",
    "                healthy_total += float(cost[index])\n",
    "                healthy_len += 1\n",
    "            elif float(bmi[index]) < 30.0:\n",
    "                overweight_total += float(cost[index])\n",
    "                overweight_len += 1\n",
    "            else:\n",
    "                obese_total += float(cost[index])\n",
    "                obese_len += 1\n",
    "                \n",
    "        underweight_average = round((underweight_total/underweight_len),2)\n",
    "        healthy_average = round((healthy_total/healthy_len),2)\n",
    "        overweight_average = round((overweight_total/overweight_len),2)\n",
    "        obese_average = round((obese_total/obese_len),2)\n",
    "        \n",
    "        return (underweight_average,healthy_average,overweight_average,obese_average)\n",
    "        \n",
    "    \n",
    "    underweight,healthy,overweight,obese = average_cost_by_bmi()"
   ]
  },
  {
   "cell_type": "markdown",
   "metadata": {},
   "source": [
    "# Finding the Average Insurance based off of if Smoker"
   ]
  },
  {
   "cell_type": "code",
   "execution_count": 161,
   "metadata": {},
   "outputs": [],
   "source": [
    "def average_cost_smoker():\n",
    "    smoker_cost = 0\n",
    "    non_smoker_cost = 0\n",
    "    smoker_len = 0\n",
    "    non_smoker_len = 0\n",
    "    \n",
    "    for index in range(len(smoker)-1):\n",
    "        if smoker[index] == \"yes\":\n",
    "            smoker_cost += float(cost[index])\n",
    "            smoker_len += 1\n",
    "        else:\n",
    "            non_smoker_cost += float(cost[index])\n",
    "            non_smoker_len += 1\n",
    "    \n",
    "    smoker_average = round((smoker_cost/smoker_len),2)\n",
    "    non_smoker_average = round((non_smoker_cost/non_smoker_len),2)\n",
    "    return smoker_average, non_smoker_average\n",
    "\n",
    "smoker_cost,non_smoker_cost = average_cost_smoker()\n",
    "        "
   ]
  }
 ],
 "metadata": {
  "kernelspec": {
   "display_name": "Python 3",
   "language": "python",
   "name": "python3"
  },
  "language_info": {
   "codemirror_mode": {
    "name": "ipython",
    "version": 3
   },
   "file_extension": ".py",
   "mimetype": "text/x-python",
   "name": "python",
   "nbconvert_exporter": "python",
   "pygments_lexer": "ipython3",
   "version": "3.8.5"
  }
 },
 "nbformat": 4,
 "nbformat_minor": 4
}
